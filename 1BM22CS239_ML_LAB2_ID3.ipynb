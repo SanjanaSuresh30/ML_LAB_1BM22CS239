{
  "nbformat": 4,
  "nbformat_minor": 0,
  "metadata": {
    "colab": {
      "provenance": [],
      "authorship_tag": "ABX9TyOHDQmCgBil8CZ5QoVSmtzx",
      "include_colab_link": true
    },
    "kernelspec": {
      "name": "python3",
      "display_name": "Python 3"
    },
    "language_info": {
      "name": "python"
    }
  },
  "cells": [
    {
      "cell_type": "markdown",
      "metadata": {
        "id": "view-in-github",
        "colab_type": "text"
      },
      "source": [
        "<a href=\"https://colab.research.google.com/github/SanjanaSuresh30/ML_LAB_1BM22CS239/blob/main/1BM22CS239_ML_LAB2_ID3.ipynb\" target=\"_parent\"><img src=\"https://colab.research.google.com/assets/colab-badge.svg\" alt=\"Open In Colab\"/></a>"
      ]
    },
    {
      "cell_type": "code",
      "source": [
        "import pandas as pd\n",
        "import math\n",
        "from collections import Counter\n",
        "\n",
        "# Load dataset from CSV\n",
        "df = pd.read_csv(\"/content/id3.csv\")\n",
        "\n",
        "# Ensure there are no missing values\n",
        "df.dropna(inplace=True)\n",
        "\n",
        "def entropy(data):\n",
        "    labels = data['label'].tolist()\n",
        "    counts = Counter(labels)\n",
        "    probabilities = [count / len(labels) for count in counts.values()]\n",
        "    entropy_value = -sum(p * math.log2(p) for p in probabilities if p > 0)  # Avoid log(0)\n",
        "    return entropy_value\n",
        "\n",
        "def gain(data, feature):\n",
        "    initial_entropy = entropy(data)\n",
        "    feature_values = data[feature].unique()\n",
        "    weighted_entropy = 0\n",
        "    for value in feature_values:\n",
        "        subset = data[data[feature] == value]\n",
        "        weighted_entropy += (len(subset) / len(data)) * entropy(subset)\n",
        "    return initial_entropy - weighted_entropy\n",
        "\n",
        "def id3(data, features, target_attribute):\n",
        "    # If all labels are the same, return that label\n",
        "    if len(data[target_attribute].unique()) == 1:\n",
        "        return data[target_attribute].iloc[0]\n",
        "\n",
        "    # If no features left, return the most common label\n",
        "    if len(features) == 0:\n",
        "        return data[target_attribute].mode()[0]\n",
        "\n",
        "    # Select the best feature using Information Gain\n",
        "    best_feature = max(features, key=lambda feature: gain(data, feature))\n",
        "    tree = {best_feature: {}}\n",
        "    features = [f for f in features if f != best_feature]\n",
        "\n",
        "    for value in data[best_feature].unique():\n",
        "        subset = data[data[best_feature] == value].drop(columns=[best_feature])\n",
        "        if subset.empty:\n",
        "            tree[best_feature][value] = data[target_attribute].mode()[0]  # Handle empty subsets\n",
        "        else:\n",
        "            tree[best_feature][value] = id3(subset, features, target_attribute)\n",
        "\n",
        "    return tree\n",
        "\n",
        "# Extract feature names and target attribute\n",
        "target_attribute = \"label\"\n",
        "features = [col for col in df.columns if col != target_attribute]\n",
        "\n",
        "# Create the ID3 decision tree\n",
        "decision_tree = id3(df, features, target_attribute)\n",
        "\n",
        "# Print the decision tree\n",
        "print(decision_tree)\n"
      ],
      "metadata": {
        "colab": {
          "base_uri": "https://localhost:8080/"
        },
        "id": "flHJxKZx0eCf",
        "outputId": "c9a65ce8-936a-4e42-fa3a-0d8975516705"
      },
      "execution_count": 3,
      "outputs": [
        {
          "output_type": "stream",
          "name": "stdout",
          "text": [
            "{'outlook': {'sunny': {'humidity': {'high': 'no', 'normal': 'yes'}}, 'overcast': 'yes', 'rainy': {'wind': {'weak': 'yes', 'strong': 'no'}}}}\n"
          ]
        }
      ]
    },
    {
      "cell_type": "code",
      "source": [
        "import pandas as pd\n",
        "\n",
        "# Sample dataset\n",
        "data = {'outlook': ['sunny', 'sunny', 'overcast', 'rainy', 'rainy', 'rainy', 'overcast', 'sunny', 'sunny', 'rainy', 'sunny', 'overcast', 'overcast', 'rainy'],\n",
        "        'temperature': ['hot', 'hot', 'hot', 'mild', 'cool', 'cool', 'cool', 'mild', 'cool', 'mild', 'mild', 'mild', 'hot', 'mild'],\n",
        "        'humidity': ['high', 'high', 'high', 'high', 'normal', 'normal', 'normal', 'high', 'normal', 'normal', 'normal', 'high', 'normal', 'high'],\n",
        "        'wind': ['weak', 'strong', 'weak', 'weak', 'weak', 'strong', 'strong', 'weak', 'weak', 'weak', 'strong', 'strong', 'weak', 'strong'],\n",
        "        'label': ['no', 'no', 'yes', 'yes', 'yes', 'no', 'yes', 'no', 'yes', 'yes', 'yes', 'yes', 'yes', 'no']}\n",
        "\n",
        "# Create a DataFrame\n",
        "df = pd.DataFrame(data)\n",
        "\n",
        "# Save to CSV\n",
        "df.to_csv(\"dataset.csv\", index=False)\n",
        "\n",
        "print(\"CSV file 'dataset.csv' created successfully.\")\n"
      ],
      "metadata": {
        "colab": {
          "base_uri": "https://localhost:8080/"
        },
        "id": "X-1n6NZD1j5_",
        "outputId": "d8abd02d-ce5d-4b6c-ef53-982c23be2b82"
      },
      "execution_count": 4,
      "outputs": [
        {
          "output_type": "stream",
          "name": "stdout",
          "text": [
            "CSV file 'dataset.csv' created successfully.\n"
          ]
        }
      ]
    }
  ]
}